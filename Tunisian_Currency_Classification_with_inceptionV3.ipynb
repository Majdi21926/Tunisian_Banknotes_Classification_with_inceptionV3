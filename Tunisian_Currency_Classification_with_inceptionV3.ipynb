{
  "nbformat": 4,
  "nbformat_minor": 0,
  "metadata": {
    "colab": {
      "name": "inception_v3_1.ipynb",
      "provenance": [],
      "collapsed_sections": [],
      "toc_visible": true,
      "mount_file_id": "1J2fC8Ydp80a8OI5-iOPQ20g2os3H9k_p",
      "authorship_tag": "ABX9TyPHzGfksRv3PoGtXZicxWoE",
      "include_colab_link": true
    },
    "kernelspec": {
      "name": "python3",
      "display_name": "Python 3"
    },
    "accelerator": "GPU"
  },
  "cells": [
    {
      "cell_type": "markdown",
      "metadata": {
        "id": "view-in-github",
        "colab_type": "text"
      },
      "source": [
        "<a href=\"https://colab.research.google.com/github/Majdi21926/Tunisian_Currency_Classification_with_inceptionV3/blob/main/Tunisian_Currency_Classification_with_inceptionV3.ipynb\" target=\"_parent\"><img src=\"https://colab.research.google.com/assets/colab-badge.svg\" alt=\"Open In Colab\"/></a>"
      ]
    },
    {
      "cell_type": "code",
      "metadata": {
        "id": "vvJVMqK7KCs7"
      },
      "source": [
        "from tensorflow.keras.layers import Input, Lambda, Dense, Flatten\n",
        "from tensorflow.keras.models import Model\n",
        "from tensorflow.keras.applications.inception_v3 import InceptionV3\n",
        "#from keras.applications.vgg16 import VGG16\n",
        "from tensorflow.keras.applications.inception_v3 import preprocess_input\n",
        "from tensorflow.keras.preprocessing import image\n",
        "from tensorflow.keras.preprocessing.image import ImageDataGenerator,load_img\n",
        "from tensorflow.keras.models import Sequential\n",
        "import numpy as np\n",
        "from glob import glob\n",
        "import matplotlib.pyplot as plt"
      ],
      "execution_count": null,
      "outputs": []
    },
    {
      "cell_type": "code",
      "metadata": {
        "id": "csKkC-70KHDP"
      },
      "source": [
        "IMAGE_SIZE = [224, 224]\n",
        "\n",
        "train_path = '/content/drive/My Drive/DATA_SET/train'\n",
        "valid_path = '/content/drive/My Drive/DATA_SET/test'"
      ],
      "execution_count": null,
      "outputs": []
    },
    {
      "cell_type": "code",
      "metadata": {
        "colab": {
          "base_uri": "https://localhost:8080/"
        },
        "id": "1BzH2JfaKHQD",
        "outputId": "0d5b6041-36f0-489f-a5bf-392132e2cc1a"
      },
      "source": [
        "inception = InceptionV3(input_shape=IMAGE_SIZE + [3], weights='imagenet', include_top=False)"
      ],
      "execution_count": null,
      "outputs": [
        {
          "output_type": "stream",
          "text": [
            "Downloading data from https://storage.googleapis.com/tensorflow/keras-applications/inception_v3/inception_v3_weights_tf_dim_ordering_tf_kernels_notop.h5\n",
            "87916544/87910968 [==============================] - 1s 0us/step\n"
          ],
          "name": "stdout"
        }
      ]
    },
    {
      "cell_type": "code",
      "metadata": {
        "id": "aamJtvvGKHhr"
      },
      "source": [
        "for layer in inception.layers:\n",
        "    layer.trainable = False"
      ],
      "execution_count": null,
      "outputs": []
    },
    {
      "cell_type": "code",
      "metadata": {
        "colab": {
          "base_uri": "https://localhost:8080/"
        },
        "id": "wvreAmJCKHu0",
        "outputId": "3e80f5ec-a073-4eeb-a069-5ba79d6465b8"
      },
      "source": [
        "folders = glob('/content/drive/My Drive/DATA_SET/train/*')\n",
        "folders\n"
      ],
      "execution_count": null,
      "outputs": [
        {
          "output_type": "execute_result",
          "data": {
            "text/plain": [
              "['/content/drive/My Drive/DATA_SET/train/10mili',\n",
              " '/content/drive/My Drive/DATA_SET/train/5dt',\n",
              " '/content/drive/My Drive/DATA_SET/train/50mili',\n",
              " '/content/drive/My Drive/DATA_SET/train/50dt',\n",
              " '/content/drive/My Drive/DATA_SET/train/2dt',\n",
              " '/content/drive/My Drive/DATA_SET/train/20dt',\n",
              " '/content/drive/My Drive/DATA_SET/train/20mili',\n",
              " '/content/drive/My Drive/DATA_SET/train/1dt',\n",
              " '/content/drive/My Drive/DATA_SET/train/200mili',\n",
              " '/content/drive/My Drive/DATA_SET/train/500mili',\n",
              " '/content/drive/My Drive/DATA_SET/train/10dt',\n",
              " '/content/drive/My Drive/DATA_SET/train/100mili']"
            ]
          },
          "metadata": {
            "tags": []
          },
          "execution_count": 6
        }
      ]
    },
    {
      "cell_type": "code",
      "metadata": {
        "id": "DImTQsxhKIEG"
      },
      "source": [
        "x = Flatten()(inception.output)"
      ],
      "execution_count": null,
      "outputs": []
    },
    {
      "cell_type": "code",
      "metadata": {
        "id": "ub9Ifs09KIUn"
      },
      "source": [
        "prediction = Dense(len(folders), activation='softmax')(x)"
      ],
      "execution_count": null,
      "outputs": []
    },
    {
      "cell_type": "code",
      "metadata": {
        "id": "UDRcoWVMKhBr"
      },
      "source": [
        "# create a model object\n",
        "model = Model(inputs=inception.input, outputs=prediction)"
      ],
      "execution_count": null,
      "outputs": []
    },
    {
      "cell_type": "code",
      "metadata": {
        "id": "x0ysgqJPKhRF"
      },
      "source": [
        "# tell the model what cost and optimization method to use\n",
        "model.compile(\n",
        "  loss='categorical_crossentropy',\n",
        "  optimizer='adam',\n",
        "  metrics=['accuracy']\n",
        ")"
      ],
      "execution_count": null,
      "outputs": []
    },
    {
      "cell_type": "code",
      "metadata": {
        "id": "_kTk6q9qKhm_"
      },
      "source": [
        "# Use the Image Data Generator to import the images from the dataset\n",
        "from tensorflow.keras.preprocessing.image import ImageDataGenerator\n",
        "\n",
        "train_datagen = ImageDataGenerator(rescale = 1./255,\n",
        "                                   shear_range = 0.2,\n",
        "                                   zoom_range = 0.2,\n",
        "                                   horizontal_flip = True)\n",
        "\n",
        "test_datagen = ImageDataGenerator(rescale = 1./255)"
      ],
      "execution_count": null,
      "outputs": []
    },
    {
      "cell_type": "code",
      "metadata": {
        "colab": {
          "base_uri": "https://localhost:8080/"
        },
        "id": "uagG5qxhKh87",
        "outputId": "a034d08c-6d94-4d94-f772-ace2c4f3ea47"
      },
      "source": [
        "\n",
        "# Make sure you provide the same target size as initialied for the image size\n",
        "training_set = train_datagen.flow_from_directory('/content/drive/My Drive/DATA_SET/train',\n",
        "                                                 target_size = (224, 224),\n",
        "                                                 batch_size = 32,\n",
        "                                                 class_mode = 'categorical')"
      ],
      "execution_count": null,
      "outputs": [
        {
          "output_type": "stream",
          "text": [
            "Found 420 images belonging to 12 classes.\n"
          ],
          "name": "stdout"
        }
      ]
    },
    {
      "cell_type": "code",
      "metadata": {
        "colab": {
          "base_uri": "https://localhost:8080/"
        },
        "id": "8K03UrFaKifF",
        "outputId": "880d2a37-7ef9-4398-997b-2c7070c9c524"
      },
      "source": [
        "test_set = test_datagen.flow_from_directory('/content/drive/My Drive/DATA_SET/test',\n",
        "                                            target_size = (224, 224),\n",
        "                                            batch_size = 32,\n",
        "                                            class_mode = 'categorical')"
      ],
      "execution_count": null,
      "outputs": [
        {
          "output_type": "stream",
          "name": "stdout",
          "text": [
            "Found 145 images belonging to 12 classes.\n"
          ]
        }
      ]
    },
    {
      "cell_type": "markdown",
      "metadata": {
        "id": "tPY0C0tDsBQj"
      },
      "source": [
        "# **Training**"
      ]
    },
    {
      "cell_type": "code",
      "metadata": {
        "colab": {
          "base_uri": "https://localhost:8080/"
        },
        "id": "KLpzUecZKiv-",
        "outputId": "143889a2-f733-4a7d-d76a-e26d06cb23a7"
      },
      "source": [
        "r = model.fit_generator(\n",
        "  training_set,\n",
        "  validation_data=test_set,\n",
        "  epochs=10,\n",
        "  steps_per_epoch=len(training_set),\n",
        "  validation_steps=len(test_set)\n",
        ")"
      ],
      "execution_count": null,
      "outputs": [
        {
          "output_type": "stream",
          "text": [
            "/usr/local/lib/python3.7/dist-packages/tensorflow/python/keras/engine/training.py:1844: UserWarning: `Model.fit_generator` is deprecated and will be removed in a future version. Please use `Model.fit`, which supports generators.\n",
            "  warnings.warn('`Model.fit_generator` is deprecated and '\n"
          ],
          "name": "stderr"
        },
        {
          "output_type": "stream",
          "text": [
            "Epoch 1/10\n",
            "14/14 [==============================] - 326s 23s/step - loss: 13.1685 - accuracy: 0.2637 - val_loss: 10.6928 - val_accuracy: 0.3655\n",
            "Epoch 2/10\n",
            "14/14 [==============================] - 126s 9s/step - loss: 6.0036 - accuracy: 0.5714 - val_loss: 4.5902 - val_accuracy: 0.5724\n",
            "Epoch 3/10\n",
            "14/14 [==============================] - 121s 9s/step - loss: 2.2523 - accuracy: 0.7492 - val_loss: 3.9194 - val_accuracy: 0.6138\n",
            "Epoch 4/10\n",
            "14/14 [==============================] - 121s 9s/step - loss: 1.8549 - accuracy: 0.7810 - val_loss: 4.8262 - val_accuracy: 0.6345\n",
            "Epoch 5/10\n",
            "14/14 [==============================] - 121s 9s/step - loss: 1.4589 - accuracy: 0.8626 - val_loss: 3.4955 - val_accuracy: 0.6690\n",
            "Epoch 6/10\n",
            "14/14 [==============================] - 121s 9s/step - loss: 0.5913 - accuracy: 0.9133 - val_loss: 3.1442 - val_accuracy: 0.7793\n",
            "Epoch 7/10\n",
            "14/14 [==============================] - 128s 9s/step - loss: 0.4581 - accuracy: 0.9292 - val_loss: 3.2267 - val_accuracy: 0.6828\n",
            "Epoch 8/10\n",
            "14/14 [==============================] - 137s 10s/step - loss: 0.3371 - accuracy: 0.9585 - val_loss: 2.7426 - val_accuracy: 0.7655\n",
            "Epoch 9/10\n",
            "14/14 [==============================] - 127s 9s/step - loss: 0.3435 - accuracy: 0.9531 - val_loss: 2.3260 - val_accuracy: 0.7655\n",
            "Epoch 10/10\n",
            "14/14 [==============================] - 121s 9s/step - loss: 0.2852 - accuracy: 0.9715 - val_loss: 2.4343 - val_accuracy: 0.7793\n"
          ],
          "name": "stdout"
        }
      ]
    },
    {
      "cell_type": "markdown",
      "metadata": {
        "id": "eOr4CUYsmXtC"
      },
      "source": [
        "# **Evaluate on training set**"
      ]
    },
    {
      "cell_type": "code",
      "metadata": {
        "colab": {
          "base_uri": "https://localhost:8080/"
        },
        "id": "CiEz6TmombG4",
        "outputId": "a514e0a8-8983-4979-ba67-d7495597a849"
      },
      "source": [
        "import math\n",
        "test_loss, test_accuracy = model.evaluate(test_set, steps=math.ceil(145/32))\n",
        "print('Accuracy on test dataset:', test_accuracy)"
      ],
      "execution_count": null,
      "outputs": [
        {
          "output_type": "stream",
          "name": "stdout",
          "text": [
            "5/5 [==============================] - 134s 25s/step - loss: 2.4343 - accuracy: 0.7793\n",
            "Accuracy on test dataset: 0.7793103456497192\n"
          ]
        }
      ]
    },
    {
      "cell_type": "code",
      "metadata": {
        "colab": {
          "base_uri": "https://localhost:8080/",
          "height": 535
        },
        "id": "KXx5_-MMKjHt",
        "outputId": "3d4a47ed-1fe9-475b-8395-6e9d8cc9b3cb"
      },
      "source": [
        "plt.plot(r.history['loss'], label='train loss')\n",
        "plt.plot(r.history['val_loss'], label='val loss')\n",
        "plt.legend()\n",
        "plt.show()\n",
        "plt.savefig('LossVal_loss')\n",
        "\n",
        "# plot the accuracy\n",
        "plt.plot(r.history['accuracy'], label='train acc')\n",
        "plt.plot(r.history['val_accuracy'], label='val acc')\n",
        "plt.legend()\n",
        "plt.show()\n",
        "plt.savefig('AccVal_acc')"
      ],
      "execution_count": null,
      "outputs": [
        {
          "output_type": "display_data",
          "data": {
            "image/png": "[encoded data removed]",
            "text/plain": [
              "<Figure size 432x288 with 1 Axes>"
            ]
          },
          "metadata": {
            "tags": [],
            "needs_background": "light"
          }
        },
        {
          "output_type": "display_data",
          "data": {
            "image/png": "[encoded data removed]",
            "text/plain": [
              "<Figure size 432x288 with 1 Axes>"
            ]
          },
          "metadata": {
            "tags": [],
            "needs_background": "light"
          }
        },
        {
          "output_type": "display_data",
          "data": {
            "text/plain": [
              "<Figure size 432x288 with 0 Axes>"
            ]
          },
          "metadata": {
            "tags": []
          }
        }
      ]
    },
    {
      "cell_type": "code",
      "metadata": {
        "id": "hvnKaSfYReZc"
      },
      "source": [
        "# save it as a h5 file\n",
        "\n",
        "from tensorflow.keras.models import load_model\n",
        "inception_v3=\"model_inception.h5\"\n",
        "\n",
        "model.save(inception_v3)"
      ],
      "execution_count": null,
      "outputs": []
    }
  ]
}